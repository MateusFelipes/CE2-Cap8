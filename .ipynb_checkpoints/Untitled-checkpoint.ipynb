{
 "cells": [
  {
   "cell_type": "markdown",
   "metadata": {},
   "source": [
    "Mateus Felipe Santos Araújo\n",
    "\n",
    "170041875\n",
    "\n",
    "Capítulo 8"
   ]
  },
  {
   "cell_type": "code",
   "execution_count": 1,
   "metadata": {},
   "outputs": [
    {
     "name": "stdout",
     "output_type": "stream",
     "text": [
      "Escreva o número de sua matricula170041875\n",
      "Você deverá entregar os exercícios:  [174, 175]\n"
     ]
    }
   ],
   "source": [
    "import random\n",
    "\n",
    "def escolhe(matricula):\n",
    "    random.seed(matricula)\n",
    "    cap1 = (2,8,9,11,12,15,16,18,20,21,22,24,26,27,28,30,31,32)    \n",
    "    cap2 = (36,40,44,45,46,48,50,51,53,55,56,57,59,60)\n",
    "    cap3 = (63,64,65,68,71,72,74,76,78,80,81,84)\n",
    "    cap4 = (85,86,87,89,91,92,94,97,99,101,103,104,106)\n",
    "    cap5 = (111,115,117,118,119,122,123,124,126,127,131,132,133)\n",
    "    cap6 = (138,139,140,141,144,147,148)\n",
    "    cap7 = (152,153,154,155,157,160,161,164,165,166,168,171,172)\n",
    "    cap8 = (174,175,176,177,179,181,182,185)\n",
    "    return(random.sample(cap8, k=2))\n",
    "\n",
    "print(\"Você deverá entregar os exercícios: \", escolhe(input(\"Escreva o número de sua matricula\")))"
   ]
  },
  {
   "cell_type": "markdown",
   "metadata": {},
   "source": [
    "174."
   ]
  },
  {
   "cell_type": "code",
   "execution_count": 12,
   "metadata": {},
   "outputs": [
    {
     "name": "stdout",
     "output_type": "stream",
     "text": [
      "Digite o primeiro inteiro: 4\n",
      "Digite o segundo inteiro: 2\n",
      "2\n"
     ]
    }
   ],
   "source": [
    "def MDC(int1 , int2):\n",
    "    a=max(int1,int2)\n",
    "    b=min(int1,int2)\n",
    "    \n",
    "    if b==0:\n",
    "        return a\n",
    "    else:\n",
    "        c = a % b\n",
    "        return MDC(b,c)\n",
    "def main():\n",
    "    x = int(input(\"Digite o primeiro inteiro: \"))\n",
    "    y = int(input(\"Digite o segundo inteiro: \"))\n",
    "    \n",
    "    mdc = MDC(x,y)\n",
    "    print(mdc)\n",
    "main()"
   ]
  },
  {
   "cell_type": "markdown",
   "metadata": {},
   "source": [
    "175."
   ]
  },
  {
   "cell_type": "code",
   "execution_count": 27,
   "metadata": {},
   "outputs": [
    {
     "name": "stdout",
     "output_type": "stream",
     "text": [
      "Digite um número inteiro positivo: 2730\n",
      "Forma Binária: 010101010101\n"
     ]
    }
   ],
   "source": [
    "def dec2Binary(dec):    \n",
    "    if dec<0:\n",
    "        return \"Digite um número inteiro positivo. Tente novamente!\"\n",
    "    \n",
    "    if dec==0:\n",
    "        return \"0\"\n",
    "    elif dec==1:\n",
    "        return \"1\"\n",
    "    else:\n",
    "        r = dec % 2\n",
    "        dec = dec // 2\n",
    "        return str(r) + dec2Binary(dec)\n",
    "\n",
    "def main():\n",
    "    x = int(input(\"Digite um número inteiro positivo: \"))\n",
    "    \n",
    "    binario = dec2Binary(x)\n",
    "    if x>=0:\n",
    "        print(\"Forma Binária: {}\".format(binario))\n",
    "    else:\n",
    "        print(dec2Binary(x))\n",
    "main()"
   ]
  },
  {
   "cell_type": "markdown",
   "metadata": {},
   "source": [
    "175."
   ]
  },
  {
   "cell_type": "code",
   "execution_count": 30,
   "metadata": {},
   "outputs": [
    {
     "name": "stdout",
     "output_type": "stream",
     "text": [
      "Digite uma palavra: Hello!\n",
      "Hotel Echo Lima Lima Oscar \n"
     ]
    }
   ],
   "source": [
    "def NATO(word):\n",
    "    alfabeto = \"ABCDEFGHIJKLMNOPQRSTUVXWYZ\"\n",
    "    nato = {\"A\":\"Alfa\", \"B\":\"Bravo\", \"C\":\"Charlie\", \"D\":\"Delta\", \"E\":\"Echo\", \"F\":\"Foxtrot\", \"G\":\"Golf\", \"H\":\"Hotel\", \\\n",
    "           \"I\":\"India\", \"J\":\"Juliet\", \"K\":\"Kilo\", \"L\":\"Lima\", \"M\":\"Mike\", \"N\":\"November\", \"O\":\"Oscar\", \"P\":\"Papa\", \\\n",
    "           \"Q\":\"Quebec\", \"R\":\"Romeo\", \"S\":\"Sierra\", \"T\":\"Tango\", \"U\":\"Uniform\", \"V\":\"Victor\", \"W\":\"Whiskey\", \"X\":\"Xray\", \\\n",
    "           \"Y\":\"Yankee\", \"Z\":\"Zulu\"}\n",
    "    \n",
    "    word=word.upper()\n",
    "    if word==\"\":\n",
    "        return \"\"\n",
    "    tail = word[1 : len(word)]\n",
    "    \n",
    "    if word[0] in alfabeto:\n",
    "        return nato[word[0]] + \" \" + NATO(tail)\n",
    "    else:\n",
    "        return NATO(tail)\n",
    "\n",
    "def main():\n",
    "    s=input(\"Digite uma palavra: \")\n",
    "    snato = NATO(s)\n",
    "    \n",
    "    print(snato)\n",
    "    \n",
    "main()"
   ]
  },
  {
   "cell_type": "markdown",
   "metadata": {},
   "source": [
    "177."
   ]
  },
  {
   "cell_type": "code",
   "execution_count": 36,
   "metadata": {},
   "outputs": [
    {
     "name": "stdout",
     "output_type": "stream",
     "text": [
      "Digite um número romano: CDXLIV\n",
      "Número Inteiro: 444\n"
     ]
    }
   ],
   "source": [
    "def roman2Int(romano):\n",
    "    roma = {\"M\":1000,\"D\":500,\"C\":100,\"L\":50,\"X\":10,\"V\":5,\"I\":1}\n",
    "    \n",
    "    if romano==\"\":\n",
    "        return 0\n",
    "    else:\n",
    "        if roma[romano[0]]<roma[romano[1]]:\n",
    "            return roma[romano[1]] - roma[romano[0]] + roman2Int(romano[2 : len(romano)])\n",
    "        else:\n",
    "            return roma[romano[0]] + roman2Int(romano[1 : len(romano)])\n",
    "\n",
    "def main():\n",
    "    word = input(\"Digite um número romano: \")\n",
    "    inteiro = roman2Int(word)\n",
    "    print(\"Número Inteiro: {}\".format(inteiro))\n",
    "\n",
    "main()"
   ]
  },
  {
   "cell_type": "markdown",
   "metadata": {},
   "source": [
    "179."
   ]
  },
  {
   "cell_type": "code",
   "execution_count": 43,
   "metadata": {},
   "outputs": [
    {
     "data": {
      "text/plain": [
       "1.4142135623746899"
      ]
     },
     "execution_count": 43,
     "metadata": {},
     "output_type": "execute_result"
    }
   ],
   "source": [
    "def raiz2(n , guess=1):\n",
    "    if abs(guess**2 - n) <= 10e-12:\n",
    "        return guess\n",
    "    else:\n",
    "        guess = (guess + n/guess)/2\n",
    "        return raiz2(n , guess)\n",
    "\n",
    "raiz2(2)"
   ]
  },
  {
   "cell_type": "markdown",
   "metadata": {},
   "source": [
    "181."
   ]
  },
  {
   "cell_type": "code",
   "execution_count": 37,
   "metadata": {},
   "outputs": [
    {
     "data": {
      "text/plain": [
       "True"
      ]
     },
     "execution_count": 37,
     "metadata": {},
     "output_type": "execute_result"
    }
   ],
   "source": [
    "def coinsChange(dol , n):\n",
    "    quarter = 0.25\n",
    "    dime = 0.1\n",
    "    nickel = 0.05\n",
    "    pennie = 0.01\n",
    "    newdol=0\n",
    "    \n",
    "    if dol!=0 and n==0:\n",
    "        return False\n",
    "    elif dol/n in (quarter, dime, nickel, pennie):\n",
    "        return True\n",
    "    elif dol/n > quarter:\n",
    "        return False\n",
    "    elif dol/n < nickel and dol/n > pennie:\n",
    "        return False\n",
    "    else:\n",
    "        if dol/n > dime:\n",
    "            newdol=dol-quarter\n",
    "            return coinsChange(round(newdol,2) , n-1)\n",
    "        elif dol/n < dime and dol/n > nickel:\n",
    "            newdol=dol-dime\n",
    "            return coinsChange(round(newdol,2) , n-1)\n",
    "        elif dol/n < nickel and dol/n > pennie:\n",
    "            newdol=dol-nickel\n",
    "            return coinsChange(round(newdol,2) , n-1)\n",
    "        elif dol/n < pennie:\n",
    "            newdol=dol-pennie\n",
    "            return coinsChange(round(newdol,2) , n-1)\n",
    "        \n",
    "coinsChange(1.25, 7)"
   ]
  },
  {
   "cell_type": "markdown",
   "metadata": {},
   "source": [
    "182."
   ]
  },
  {
   "cell_type": "code",
   "execution_count": 3,
   "metadata": {},
   "outputs": [
    {
     "name": "stdout",
     "output_type": "stream",
     "text": [
      "Carbon pode ser escrito como CaRbON.\n",
      "\n",
      "Neon pode ser escrito como NeON.\n",
      "\n",
      "Silicon pode ser escrito como SiLiCoN.\n",
      "\n",
      "Phosphorus pode ser escrito como PHoSPHoRuS.\n",
      "\n",
      "Iron pode ser escrito como IrON.\n",
      "\n",
      "Copper pode ser escrito como CoPPEr.\n",
      "\n",
      "Arsenic pode ser escrito como ArSeNiC.\n",
      "\n",
      "Krypton pode ser escrito como KrYPtON.\n",
      "\n",
      "Silver pode ser escrito como SiLvEr.\n",
      "\n",
      "Tin pode ser escrito como TiN.\n",
      "\n",
      "Xenon pode ser escrito como XeNoN.\n",
      "\n",
      "Bismuth pode ser escrito como BiSmUTh.\n",
      "\n",
      "Astatine pode ser escrito como AsTaTiNe.\n",
      "\n"
     ]
    }
   ],
   "source": [
    "def elementsASsymbols(palavra, symbols):\n",
    "    lista = []\n",
    "    for i in symbols:\n",
    "        lista.append(i.lower())\n",
    "\n",
    "    palavra1 = palavra.lower()\n",
    "    palavra_simbolo = \"\"\n",
    "\n",
    "    for i in range(3,0,-1):\n",
    "        if palavra_simbolo == \"\":\n",
    "            if len(palavra) >= i and (palavra1[:i] in lista):\n",
    "                if len(palavra) == i:\n",
    "                    palavra_simbolo += symbols[lista.index(palavra1)]\n",
    "                else:\n",
    "                    palavra_simbolo += symbols[lista.index(palavra1[:i])] + elementsASsymbols(palavra[i:], symbols)\n",
    "\n",
    "    if len(palavra_simbolo) == len(palavra):\n",
    "        return palavra_simbolo\n",
    "    else:\n",
    "        return \"\"\n",
    "\n",
    "def main():\n",
    "    elementos = open(\"elements.txt\", \"r\")\n",
    "    elemento = elementos.readline()\n",
    "\n",
    "    nomes = []\n",
    "    simbolos = []\n",
    "\n",
    "    while elemento != \"\":\n",
    "        elemento = elemento.replace(\"\\n\", \"\")\n",
    "        elemento_sep = elemento.split(\",\")\n",
    "        simbolos.append(elemento_sep[1])\n",
    "        nomes.append(elemento_sep[2])\n",
    "        elemento = elementos.readline()\n",
    "    elementos.close()\n",
    "    \n",
    "    for palavra in nomes:\n",
    "        wordsymb = elementsASsymbols(palavra, simbolos)\n",
    "        if wordsymb  != \"\":\n",
    "            print(\"%s pode ser escrito como %s.\" % (palavra, wordsymb))\n",
    "            print()\n",
    "\n",
    "main()"
   ]
  },
  {
   "cell_type": "markdown",
   "metadata": {},
   "source": [
    "185."
   ]
  },
  {
   "cell_type": "code",
   "execution_count": 11,
   "metadata": {},
   "outputs": [
    {
     "name": "stdout",
     "output_type": "stream",
     "text": [
      "Digite os elementos da lista codificada separados por espaço: A 5 B 6\n",
      "A lista decodificada é:  ['A', 'A', 'A', 'A', 'A', 'B', 'B', 'B', 'B', 'B', 'B']\n"
     ]
    }
   ],
   "source": [
    "def decode(lista):\n",
    "    if lista==[]:\n",
    "        return []\n",
    "    \n",
    "    n=int(lista[1])\n",
    "    ch=lista[0]\n",
    "    decoded=[]\n",
    "    for i in range(0,n):\n",
    "        decoded.append(ch)\n",
    "    return decoded + decode(lista[2:len(lista)])\n",
    "\n",
    "def main():\n",
    "    s = input(\"Digite os elementos da lista codificada separados por espaço: \")\n",
    "    slist = list(map(str,s.strip().split()))\n",
    "\n",
    "    print(\"A lista decodificada é: \", decode(slist))\n",
    "\n",
    "main()"
   ]
  }
 ],
 "metadata": {
  "kernelspec": {
   "display_name": "Python 3",
   "language": "python",
   "name": "python3"
  },
  "language_info": {
   "codemirror_mode": {
    "name": "ipython",
    "version": 3
   },
   "file_extension": ".py",
   "mimetype": "text/x-python",
   "name": "python",
   "nbconvert_exporter": "python",
   "pygments_lexer": "ipython3",
   "version": "3.7.3"
  }
 },
 "nbformat": 4,
 "nbformat_minor": 2
}
